{
 "cells": [
  {
   "cell_type": "markdown",
   "id": "3351bb5c",
   "metadata": {},
   "source": [
    "# Python Condition"
   ]
  },
  {
   "cell_type": "markdown",
   "id": "46040623",
   "metadata": {},
   "source": [
    "# 1. Take values of the length & breadth of a rectangle from user input and check if it is square or not."
   ]
  },
  {
   "cell_type": "code",
   "execution_count": 4,
   "id": "c12a41cc",
   "metadata": {},
   "outputs": [
    {
     "name": "stdout",
     "output_type": "stream",
     "text": [
      "Enter the length of a rectangle =10\n",
      "Enter the breadth of a rectangle =3\n",
      "This is not a square\n"
     ]
    }
   ],
   "source": [
    "a  = int(input('Enter the length of a rectangle ='))\n",
    "b  = int(input('Enter the breadth of a rectangle ='))\n",
    "if a==b:\n",
    "    print('This is a square')\n",
    "else:\n",
    "    print('This is not a square')\n",
    "        \n"
   ]
  },
  {
   "cell_type": "markdown",
   "id": "531fc568",
   "metadata": {},
   "source": [
    "\n",
    "# 2.Take three integer values from the user and print the greatest among them."
   ]
  },
  {
   "cell_type": "code",
   "execution_count": 13,
   "id": "aaf140fd",
   "metadata": {},
   "outputs": [
    {
     "name": "stdout",
     "output_type": "stream",
     "text": [
      "Enter First number x =50\n",
      "Enter second number y =70\n",
      "Enter third number z =40\n",
      "y is greatest among three values\n"
     ]
    }
   ],
   "source": [
    "x = int(input('Enter First number x ='))\n",
    "y = int(input('Enter second number y ='))\n",
    "z = int(input('Enter third number z ='))\n",
    "if x>y and x>z:\n",
    "    print('x is the greatest among three values')\n",
    "elif y>x and y>z:\n",
    "    print('y is greatest among three values')\n",
    "else:\n",
    "    print('z is greatest among three values')\n",
    "        "
   ]
  },
  {
   "cell_type": "markdown",
   "id": "664f0e5a",
   "metadata": {},
   "source": [
    "# 3. A student will not be allowed to sit in an exam if his/her attendance is less than 75%."
   ]
  },
  {
   "cell_type": "code",
   "execution_count": 27,
   "id": "a9d8bcec",
   "metadata": {},
   "outputs": [
    {
     "name": "stdout",
     "output_type": "stream",
     "text": [
      "Enter the number of class held in =60\n",
      "Enter the number of class attended =20\n",
      "the student can not sit for the exam\n"
     ]
    }
   ],
   "source": [
    "class_held = int(input('Enter the number of class held in ='))\n",
    "class_attend = int(input('Enter the number of class attended ='))\n",
    "percentage  = (class_attend/class_held)*100\n",
    "\n",
    "if percentage<75:\n",
    "    print('the student can not sit for the exam')\n",
    "else:\n",
    "    print('the student can sit for the exam')"
   ]
  },
  {
   "cell_type": "markdown",
   "id": "3a369539",
   "metadata": {},
   "source": [
    "# 4. A school has the following rules for the grading system:\n",
    "Below 25 – F, 25 to 44 – E, 45 to 49 – D, 50 to 59 – C, 60 to 79 – B, 80 to 89 - A, Above 90 - A+\n",
    "Now, Ask the user to enter marks and print the corresponding grade."
   ]
  },
  {
   "cell_type": "code",
   "execution_count": 31,
   "id": "59ef9bd1",
   "metadata": {},
   "outputs": [
    {
     "name": "stdout",
     "output_type": "stream",
     "text": [
      "Enter First marks =46\n",
      "the student obtaining grade is = D\n"
     ]
    }
   ],
   "source": [
    "mark = int(input('Enter First marks ='))\n",
    "if mark>90:\n",
    "    print('the student obtaining grade is = A+')\n",
    "elif mark>=80 and mark<=89:\n",
    "     print('the student obtaining grade is = A')\n",
    "elif mark>=60 and mark<=79:\n",
    "     print('the student obtaining grade is = B')    \n",
    "elif mark>=50 and mark<=59:\n",
    "     print('the student obtaining grade is = C')          \n",
    "elif mark>=45 and mark<=49:\n",
    "     print('the student obtaining grade is = D') \n",
    "elif mark>=25 and mark<=44:\n",
    "     print('the student obtaining grade is = E')\n",
    "else:\n",
    "    print('the student obtaining grade is = F')\n",
    "    "
   ]
  },
  {
   "cell_type": "markdown",
   "id": "880ebc9a",
   "metadata": {},
   "source": [
    "# Loop Problem:"
   ]
  },
  {
   "cell_type": "markdown",
   "id": "885b9a02",
   "metadata": {},
   "source": [
    "## "
   ]
  },
  {
   "cell_type": "markdown",
   "id": "026aef1c",
   "metadata": {},
   "source": [
    "# Print the following pattern using for and while loop.\n",
    "1 2 3 4 5 6 7\n",
    "1 2 3 4 5 6\n",
    "1 2 3 4 5\n",
    "1 2 3 4"
   ]
  },
  {
   "cell_type": "code",
   "execution_count": 111,
   "id": "9b7164c8",
   "metadata": {},
   "outputs": [
    {
     "name": "stdout",
     "output_type": "stream",
     "text": [
      "1 2 3 4 5 6 7 \n",
      "2 3 4 5 6 7 \n",
      "3 4 5 6 7 \n",
      "4 5 6 7 \n",
      "5 6 7 \n",
      "6 7 \n",
      "7 \n"
     ]
    }
   ],
   "source": [
    "m=1\n",
    "n=8\n",
    "for i in range(m,n):\n",
    "    for j in range(i,n,1):\n",
    "        print(j, end=' ')\n",
    "    print()\n",
    "    "
   ]
  },
  {
   "cell_type": "markdown",
   "id": "429c5f53",
   "metadata": {},
   "source": [
    "# Python inbuilt Data Structure:"
   ]
  },
  {
   "cell_type": "markdown",
   "id": "754e73fd",
   "metadata": {},
   "source": [
    "# Remove 2 and add 3 to the list and replace True with False.\n",
    "Li = [1,3,5, [2,3], True]\n",
    "Output = [1,3,5, [3,3], False]"
   ]
  },
  {
   "cell_type": "code",
   "execution_count": 94,
   "id": "a72a3563",
   "metadata": {},
   "outputs": [
    {
     "data": {
      "text/plain": [
       "[1, 3, 5, [3, 3], False]"
      ]
     },
     "execution_count": 94,
     "metadata": {},
     "output_type": "execute_result"
    }
   ],
   "source": [
    "Li = [1,3,5,[2,3],True]\n",
    "del Li[3][0]\n",
    "Li[3].insert(0,3)\n",
    "Li[4] = False\n",
    "Li"
   ]
  },
  {
   "cell_type": "markdown",
   "id": "12a9042a",
   "metadata": {},
   "source": [
    "# 13. Find the intersection (common) of two sets."
   ]
  },
  {
   "cell_type": "code",
   "execution_count": 106,
   "id": "9c6be9f2",
   "metadata": {},
   "outputs": [
    {
     "data": {
      "text/plain": [
       "{1}"
      ]
     },
     "execution_count": 106,
     "metadata": {},
     "output_type": "execute_result"
    }
   ],
   "source": [
    "S1 = {1,4,6,8}\n",
    "S2 = {1,2,10,True}\n",
    "S1.intersection(S2)\n"
   ]
  },
  {
   "cell_type": "markdown",
   "id": "59e68a2f",
   "metadata": {},
   "source": [
    "# 14. Input a list from the user then Remove duplicates from a list and create a set and find the max\n",
    "number. User_input = [1,9,3,4,5,200,5,4]"
   ]
  },
  {
   "cell_type": "code",
   "execution_count": 134,
   "id": "17d69d99",
   "metadata": {},
   "outputs": [
    {
     "name": "stdout",
     "output_type": "stream",
     "text": [
      "1\n",
      "9\n",
      "3\n",
      "4\n",
      "5\n",
      "200\n",
      "5\n",
      "4\n",
      "[1, 9, 3, 4, 5, 200, 5, 4]\n"
     ]
    }
   ],
   "source": [
    "li = []\n",
    "for i in range(8):\n",
    "    element = int(input())\n",
    "    li.append(element)\n",
    "print(li)"
   ]
  },
  {
   "cell_type": "code",
   "execution_count": null,
   "id": "1a3db676",
   "metadata": {},
   "outputs": [],
   "source": []
  },
  {
   "cell_type": "code",
   "execution_count": 155,
   "id": "8ec88e91",
   "metadata": {},
   "outputs": [
    {
     "name": "stdout",
     "output_type": "stream",
     "text": [
      "{1, 3, 4, 5, 200, 9}\n",
      "200\n"
     ]
    }
   ],
   "source": [
    "sets = set(li)#automatically remove duplicate\n",
    "print (sets)\n",
    "print (MAX(sets))"
   ]
  },
  {
   "cell_type": "markdown",
   "id": "270500f5",
   "metadata": {},
   "source": [
    "# 15. Rename the key of a dictionary.\n",
    "Dict = { \"name\": \"Shakil\", \"age\":27, \"city\": “Berlin”, \"country\": \"Germany\" }\n",
    "Write a program to rename a key ‘country’ to a ‘region’ in the following dictionary."
   ]
  },
  {
   "cell_type": "code",
   "execution_count": 166,
   "id": "fa1342b5",
   "metadata": {},
   "outputs": [],
   "source": [
    "dic = {\n",
    "    'name':'Shakil',\n",
    "    'age': '27',\n",
    "    'city': 'Berlin',\n",
    "    'country':'Germany'\n",
    "}"
   ]
  },
  {
   "cell_type": "code",
   "execution_count": 167,
   "id": "3d5ecdbd",
   "metadata": {},
   "outputs": [
    {
     "data": {
      "text/plain": [
       "{'name': 'Shakil', 'age': '27', 'city': 'Berlin', 'country': 'Germany'}"
      ]
     },
     "execution_count": 167,
     "metadata": {},
     "output_type": "execute_result"
    }
   ],
   "source": [
    "dic"
   ]
  },
  {
   "cell_type": "code",
   "execution_count": 175,
   "id": "cf7c7632",
   "metadata": {},
   "outputs": [
    {
     "ename": "KeyError",
     "evalue": "'country'",
     "output_type": "error",
     "traceback": [
      "\u001b[1;31m---------------------------------------------------------------------------\u001b[0m",
      "\u001b[1;31mKeyError\u001b[0m                                  Traceback (most recent call last)",
      "\u001b[1;32m~\\AppData\\Local\\Temp\\ipykernel_5980\\2374326853.py\u001b[0m in \u001b[0;36m<module>\u001b[1;34m\u001b[0m\n\u001b[1;32m----> 1\u001b[1;33m \u001b[0mdic\u001b[0m\u001b[1;33m[\u001b[0m\u001b[1;34m'region'\u001b[0m\u001b[1;33m]\u001b[0m\u001b[1;33m=\u001b[0m \u001b[0mdic\u001b[0m\u001b[1;33m[\u001b[0m\u001b[1;34m'country'\u001b[0m\u001b[1;33m]\u001b[0m\u001b[1;33m\u001b[0m\u001b[1;33m\u001b[0m\u001b[0m\n\u001b[0m\u001b[0;32m      2\u001b[0m \u001b[1;32mdel\u001b[0m \u001b[0mdic\u001b[0m\u001b[1;33m[\u001b[0m\u001b[1;34m'country'\u001b[0m\u001b[1;33m]\u001b[0m\u001b[1;33m\u001b[0m\u001b[1;33m\u001b[0m\u001b[0m\n",
      "\u001b[1;31mKeyError\u001b[0m: 'country'"
     ]
    }
   ],
   "source": [
    "dic['region']= dic['country']\n",
    "del dic['country']\n"
   ]
  },
  {
   "cell_type": "code",
   "execution_count": null,
   "id": "e15b5f8b",
   "metadata": {},
   "outputs": [],
   "source": [
    "dic"
   ]
  },
  {
   "cell_type": "code",
   "execution_count": null,
   "id": "8ec204fa",
   "metadata": {},
   "outputs": [],
   "source": []
  }
 ],
 "metadata": {
  "kernelspec": {
   "display_name": "Python 3 (ipykernel)",
   "language": "python",
   "name": "python3"
  },
  "language_info": {
   "codemirror_mode": {
    "name": "ipython",
    "version": 3
   },
   "file_extension": ".py",
   "mimetype": "text/x-python",
   "name": "python",
   "nbconvert_exporter": "python",
   "pygments_lexer": "ipython3",
   "version": "3.9.13"
  }
 },
 "nbformat": 4,
 "nbformat_minor": 5
}
