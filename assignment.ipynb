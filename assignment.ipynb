{
 "cells": [
  {
   "cell_type": "markdown",
   "id": "3351bb5c",
   "metadata": {},
   "source": [
    "# Python Condition"
   ]
  },
  {
   "cell_type": "markdown",
   "id": "46040623",
   "metadata": {},
   "source": [
    "# 1. Take values of the length & breadth of a rectangle from user input and check if it is square or not."
   ]
  },
  {
   "cell_type": "code",
   "execution_count": 4,
   "id": "c12a41cc",
   "metadata": {},
   "outputs": [
    {
     "name": "stdout",
     "output_type": "stream",
     "text": [
      "Enter the length of a rectangle =10\n",
      "Enter the breadth of a rectangle =3\n",
      "This is not a square\n"
     ]
    }
   ],
   "source": [
    "a  = int(input('Enter the length of a rectangle ='))\n",
    "b  = int(input('Enter the breadth of a rectangle ='))\n",
    "if a==b:\n",
    "    print('This is a square')\n",
    "else:\n",
    "    print('This is not a square')\n",
    "        \n"
   ]
  },
  {
   "cell_type": "markdown",
   "id": "c76085b2",
   "metadata": {},
   "source": [
    "\n",
    "# 2.Take three integer values from the user and print the greatest among them."
   ]
  },
  {
   "cell_type": "code",
   "execution_count": 13,
   "id": "6191c0b6",
   "metadata": {},
   "outputs": [
    {
     "name": "stdout",
     "output_type": "stream",
     "text": [
      "Enter First number x =50\n",
      "Enter second number y =70\n",
      "Enter third number z =40\n",
      "y is greatest among three values\n"
     ]
    }
   ],
   "source": [
    "x = int(input('Enter First number x ='))\n",
    "y = int(input('Enter second number y ='))\n",
    "z = int(input('Enter third number z ='))\n",
    "if x>y and x>z:\n",
    "    print('x is the greatest among three values')\n",
    "elif y>x and y>z:\n",
    "    print('y is greatest among three values')\n",
    "else:\n",
    "    print('z is greatest among three values')\n",
    "        "
   ]
  },
  {
   "cell_type": "markdown",
   "id": "0af4f158",
   "metadata": {},
   "source": [
    "# 3. A student will not be allowed to sit in an exam if his/her attendance is less than 75%."
   ]
  },
  {
   "cell_type": "code",
   "execution_count": 27,
   "id": "28df26bf",
   "metadata": {},
   "outputs": [
    {
     "name": "stdout",
     "output_type": "stream",
     "text": [
      "Enter the number of class held in =60\n",
      "Enter the number of class attended =20\n",
      "the student can not sit for the exam\n"
     ]
    }
   ],
   "source": [
    "class_held = int(input('Enter the number of class held in ='))\n",
    "class_attend = int(input('Enter the number of class attended ='))\n",
    "percentage  = (class_attend/class_held)*100\n",
    "\n",
    "if percentage<75:\n",
    "    print('the student can not sit for the exam')\n",
    "else:\n",
    "    print('the student can sit for the exam')"
   ]
  },
  {
   "cell_type": "markdown",
   "id": "101ff214",
   "metadata": {},
   "source": [
    "# 4. A school has the following rules for the grading system:\n",
    "Below 25 – F, 25 to 44 – E, 45 to 49 – D, 50 to 59 – C, 60 to 79 – B, 80 to 89 - A, Above 90 - A+\n",
    "Now, Ask the user to enter marks and print the corresponding grade."
   ]
  },
  {
   "cell_type": "code",
   "execution_count": 31,
   "id": "65951cca",
   "metadata": {},
   "outputs": [
    {
     "name": "stdout",
     "output_type": "stream",
     "text": [
      "Enter First marks =46\n",
      "the student obtaining grade is = D\n"
     ]
    }
   ],
   "source": [
    "mark = int(input('Enter First marks ='))\n",
    "if mark>90:\n",
    "    print('the student obtaining grade is = A+')\n",
    "elif mark>=80 and mark<=89:\n",
    "     print('the student obtaining grade is = A')\n",
    "elif mark>=60 and mark<=79:\n",
    "     print('the student obtaining grade is = B')    \n",
    "elif mark>=50 and mark<=59:\n",
    "     print('the student obtaining grade is = C')          \n",
    "elif mark>=45 and mark<=49:\n",
    "     print('the student obtaining grade is = D') \n",
    "elif mark>=25 and mark<=44:\n",
    "     print('the student obtaining grade is = E')\n",
    "else:\n",
    "    print('the student obtaining grade is = F')\n",
    "    "
   ]
  },
  {
   "cell_type": "markdown",
   "id": "37f3f3fb",
   "metadata": {},
   "source": [
    "# Loop Problem:"
   ]
  },
  {
   "cell_type": "markdown",
   "id": "c3ec3b1b",
   "metadata": {},
   "source": [
    "## "
   ]
  },
  {
   "cell_type": "markdown",
   "id": "f39a5588",
   "metadata": {},
   "source": [
    "# Print the following pattern using for and while loop.\n",
    "1 2 3 4 5 6 7\n",
    "1 2 3 4 5 6\n",
    "1 2 3 4 5\n",
    "1 2 3 4"
   ]
  },
  {
   "cell_type": "code",
   "execution_count": 214,
   "id": "6e3486d6",
   "metadata": {},
   "outputs": [
    {
     "ename": "IndentationError",
     "evalue": "unindent does not match any outer indentation level (<tokenize>, line 5)",
     "output_type": "error",
     "traceback": [
      "\u001b[1;36m  File \u001b[1;32m\"<tokenize>\"\u001b[1;36m, line \u001b[1;32m5\u001b[0m\n\u001b[1;33m    for j in range(i,n,1):\u001b[0m\n\u001b[1;37m    ^\u001b[0m\n\u001b[1;31mIndentationError\u001b[0m\u001b[1;31m:\u001b[0m unindent does not match any outer indentation level\n"
     ]
    }
   ],
   "source": [
    "m=1\n",
    "n=8\n",
    "for i in range(m,n):\n",
    "     j=1\n",
    "    for j in range(i,n,1):\n",
    "       \n",
    "        print(j, end=' ')\n",
    "    print()\n",
    "    "
   ]
  },
  {
   "cell_type": "markdown",
   "id": "8e5d83b0",
   "metadata": {},
   "source": [
    "# 6. Display numbers from -100 to -10 using for loop."
   ]
  },
  {
   "cell_type": "code",
   "execution_count": 211,
   "id": "e9bc8136",
   "metadata": {},
   "outputs": [
    {
     "name": "stdout",
     "output_type": "stream",
     "text": [
      "i= -100\n",
      "\n",
      "i= -99\n",
      "\n",
      "i= -98\n",
      "\n",
      "i= -97\n",
      "\n",
      "i= -96\n",
      "\n",
      "i= -95\n",
      "\n",
      "i= -94\n",
      "\n",
      "i= -93\n",
      "\n",
      "i= -92\n",
      "\n",
      "i= -91\n",
      "\n",
      "i= -90\n",
      "\n",
      "i= -89\n",
      "\n",
      "i= -88\n",
      "\n",
      "i= -87\n",
      "\n",
      "i= -86\n",
      "\n",
      "i= -85\n",
      "\n",
      "i= -84\n",
      "\n",
      "i= -83\n",
      "\n",
      "i= -82\n",
      "\n",
      "i= -81\n",
      "\n",
      "i= -80\n",
      "\n",
      "i= -79\n",
      "\n",
      "i= -78\n",
      "\n",
      "i= -77\n",
      "\n",
      "i= -76\n",
      "\n",
      "i= -75\n",
      "\n",
      "i= -74\n",
      "\n",
      "i= -73\n",
      "\n",
      "i= -72\n",
      "\n",
      "i= -71\n",
      "\n",
      "i= -70\n",
      "\n",
      "i= -69\n",
      "\n",
      "i= -68\n",
      "\n",
      "i= -67\n",
      "\n",
      "i= -66\n",
      "\n",
      "i= -65\n",
      "\n",
      "i= -64\n",
      "\n",
      "i= -63\n",
      "\n",
      "i= -62\n",
      "\n",
      "i= -61\n",
      "\n",
      "i= -60\n",
      "\n",
      "i= -59\n",
      "\n",
      "i= -58\n",
      "\n",
      "i= -57\n",
      "\n",
      "i= -56\n",
      "\n",
      "i= -55\n",
      "\n",
      "i= -54\n",
      "\n",
      "i= -53\n",
      "\n",
      "i= -52\n",
      "\n",
      "i= -51\n",
      "\n",
      "i= -50\n",
      "\n",
      "i= -49\n",
      "\n",
      "i= -48\n",
      "\n",
      "i= -47\n",
      "\n",
      "i= -46\n",
      "\n",
      "i= -45\n",
      "\n",
      "i= -44\n",
      "\n",
      "i= -43\n",
      "\n",
      "i= -42\n",
      "\n",
      "i= -41\n",
      "\n",
      "i= -40\n",
      "\n",
      "i= -39\n",
      "\n",
      "i= -38\n",
      "\n",
      "i= -37\n",
      "\n",
      "i= -36\n",
      "\n",
      "i= -35\n",
      "\n",
      "i= -34\n",
      "\n",
      "i= -33\n",
      "\n",
      "i= -32\n",
      "\n",
      "i= -31\n",
      "\n",
      "i= -30\n",
      "\n",
      "i= -29\n",
      "\n",
      "i= -28\n",
      "\n",
      "i= -27\n",
      "\n",
      "i= -26\n",
      "\n",
      "i= -25\n",
      "\n",
      "i= -24\n",
      "\n",
      "i= -23\n",
      "\n",
      "i= -22\n",
      "\n",
      "i= -21\n",
      "\n",
      "i= -20\n",
      "\n",
      "i= -19\n",
      "\n",
      "i= -18\n",
      "\n",
      "i= -17\n",
      "\n",
      "i= -16\n",
      "\n",
      "i= -15\n",
      "\n",
      "i= -14\n",
      "\n",
      "i= -13\n",
      "\n",
      "i= -12\n",
      "\n",
      "i= -11\n",
      "\n",
      "i= -10\n",
      "\n"
     ]
    }
   ],
   "source": [
    "\n",
    "for i in range(-100,-9,1):\n",
    "    print('i=',i)\n",
    "    print()\n"
   ]
  },
  {
   "cell_type": "markdown",
   "id": "e388ca1d",
   "metadata": {},
   "source": [
    "# Write a program to sum all prime numbers within a range of 10 to 1000."
   ]
  },
  {
   "cell_type": "code",
   "execution_count": 252,
   "id": "ce69b5b6",
   "metadata": {},
   "outputs": [
    {
     "name": "stdout",
     "output_type": "stream",
     "text": [
      "enter the final range:100\n",
      "11 13 17 19 23 29 31 37 41 43 47 53 59 61 67 71 73 79 83 89 97 \n",
      "The sum of the prime numbers in given range= 1043\n"
     ]
    }
   ],
   "source": [
    "n=int(input('enter the final range:'))\n",
    "sum = 0\n",
    "for i in range(10, n+1):\n",
    "    for j in range(2, i):\n",
    "        if i % j == 0:\n",
    "           break\n",
    "    else:\n",
    "       \n",
    "        print(i,end=' ')\n",
    "        sum = sum + i\n",
    "       \n",
    "print('\\nThe sum of the prime numbers in given range=',sum)"
   ]
  },
  {
   "cell_type": "markdown",
   "id": "d1c083fa",
   "metadata": {},
   "source": [
    "# 8. Find the factorial of an n! (Hint, n=7: 7*6*5*4*3*2*1)."
   ]
  },
  {
   "cell_type": "code",
   "execution_count": 229,
   "id": "151673f0",
   "metadata": {},
   "outputs": [
    {
     "name": "stdout",
     "output_type": "stream",
     "text": [
      "enter the number:7\n",
      "The Factorial value is: 5040\n"
     ]
    }
   ],
   "source": [
    "n=int(input('enter the number:'))\n",
    "fact = 1\n",
    "i = 1\n",
    "while i<=n:\n",
    "    fact = fact*i\n",
    "    i= i+1\n",
    "print('The Factorial value is:',fact)"
   ]
  },
  {
   "cell_type": "markdown",
   "id": "14231049",
   "metadata": {},
   "source": [
    "# 9. Reverse a given integer number 27956240710."
   ]
  },
  {
   "cell_type": "code",
   "execution_count": 243,
   "id": "d975941a",
   "metadata": {},
   "outputs": [
    {
     "name": "stdout",
     "output_type": "stream",
     "text": [
      "Enter the integer value:2795624071\n",
      "The reverse number is : 1704265972\n"
     ]
    }
   ],
   "source": [
    "num = int(input('Enter the integer value:'))\n",
    "re_num = 0\n",
    "\n",
    "while num != 0:\n",
    "    remainder = num % 10\n",
    "    re_num = re_num * 10 + remainder\n",
    "    num = num//10\n",
    "\n",
    "print(\"The reverse number is : {}\".format(re_num))  "
   ]
  },
  {
   "cell_type": "markdown",
   "id": "8606c33c",
   "metadata": {},
   "source": [
    "# 11. Display the Fibonacci series of 15 elements using the for and while loop."
   ]
  },
  {
   "cell_type": "code",
   "execution_count": 248,
   "id": "d8f67c59",
   "metadata": {},
   "outputs": [
    {
     "name": "stdout",
     "output_type": "stream",
     "text": [
      "enter the value:15\n",
      "0 1 1 2 3 5 8 13 21 34 55 89 144 233 377 "
     ]
    }
   ],
   "source": [
    "n=int(input('enter the value:'))\n",
    "first = 0\n",
    "second= 1\n",
    "sum_1 = 0\n",
    "\n",
    "for i in range(0,n):\n",
    "    print(first,end=' ')\n",
    "    sum_1 = sum_1 + first\n",
    "    next_1= first+ second\n",
    "    first= second\n",
    "    second=next_1\n"
   ]
  },
  {
   "cell_type": "markdown",
   "id": "823477c6",
   "metadata": {},
   "source": [
    "# Python inbuilt Data Structure:"
   ]
  },
  {
   "cell_type": "code",
   "execution_count": null,
   "id": "442fdb6e",
   "metadata": {},
   "outputs": [],
   "source": []
  },
  {
   "cell_type": "code",
   "execution_count": null,
   "id": "ddc8988b",
   "metadata": {},
   "outputs": [],
   "source": []
  },
  {
   "cell_type": "code",
   "execution_count": null,
   "id": "05af2d13",
   "metadata": {},
   "outputs": [],
   "source": []
  },
  {
   "cell_type": "markdown",
   "id": "ea7efe75",
   "metadata": {},
   "source": [
    "# Remove 2 and add 3 to the list and replace True with False.\n",
    "Li = [1,3,5, [2,3], True]\n",
    "Output = [1,3,5, [3,3], False]"
   ]
  },
  {
   "cell_type": "code",
   "execution_count": 94,
   "id": "00e760bb",
   "metadata": {},
   "outputs": [
    {
     "data": {
      "text/plain": [
       "[1, 3, 5, [3, 3], False]"
      ]
     },
     "execution_count": 94,
     "metadata": {},
     "output_type": "execute_result"
    }
   ],
   "source": [
    "Li = [1,3,5,[2,3],True]\n",
    "del Li[3][0]\n",
    "Li[3].insert(0,3)\n",
    "Li[4] = False\n",
    "Li"
   ]
  },
  {
   "cell_type": "markdown",
   "id": "29065d77",
   "metadata": {},
   "source": [
    "# 13. Find the intersection (common) of two sets."
   ]
  },
  {
   "cell_type": "code",
   "execution_count": 106,
   "id": "4ed8c0c1",
   "metadata": {},
   "outputs": [
    {
     "data": {
      "text/plain": [
       "{1}"
      ]
     },
     "execution_count": 106,
     "metadata": {},
     "output_type": "execute_result"
    }
   ],
   "source": [
    "S1 = {1,4,6,8}\n",
    "S2 = {1,2,10,True}\n",
    "S1.intersection(S2)\n"
   ]
  },
  {
   "cell_type": "markdown",
   "id": "9d74aabe",
   "metadata": {},
   "source": [
    "# 14. Input a list from the user then Remove duplicates from a list and create a set and find the max\n",
    "number. User_input = [1,9,3,4,5,200,5,4]"
   ]
  },
  {
   "cell_type": "code",
   "execution_count": 134,
   "id": "b2ec26d9",
   "metadata": {},
   "outputs": [
    {
     "name": "stdout",
     "output_type": "stream",
     "text": [
      "1\n",
      "9\n",
      "3\n",
      "4\n",
      "5\n",
      "200\n",
      "5\n",
      "4\n",
      "[1, 9, 3, 4, 5, 200, 5, 4]\n"
     ]
    }
   ],
   "source": [
    "li = []\n",
    "for i in range(8):\n",
    "    element = int(input())\n",
    "    li.append(element)\n",
    "print(li)"
   ]
  },
  {
   "cell_type": "code",
   "execution_count": null,
   "id": "89d77dee",
   "metadata": {},
   "outputs": [],
   "source": []
  },
  {
   "cell_type": "code",
   "execution_count": 155,
   "id": "028549a7",
   "metadata": {},
   "outputs": [
    {
     "name": "stdout",
     "output_type": "stream",
     "text": [
      "{1, 3, 4, 5, 200, 9}\n",
      "200\n"
     ]
    }
   ],
   "source": [
    "sets = set(li)#automatically remove duplicate\n",
    "print (sets)\n",
    "print (MAX(sets))"
   ]
  },
  {
   "cell_type": "markdown",
   "id": "85f1ae7b",
   "metadata": {},
   "source": [
    "# 15. Rename the key of a dictionary.\n",
    "Dict = { \"name\": \"Shakil\", \"age\":27, \"city\": “Berlin”, \"country\": \"Germany\" }\n",
    "Write a program to rename a key ‘country’ to a ‘region’ in the following dictionary."
   ]
  },
  {
   "cell_type": "code",
   "execution_count": 194,
   "id": "77071339",
   "metadata": {},
   "outputs": [],
   "source": [
    "dic = {\n",
    "    'name':'Shakil',\n",
    "    'age': '27',\n",
    "    'city': 'Berlin',\n",
    "    'country':'Germany'\n",
    "}"
   ]
  },
  {
   "cell_type": "code",
   "execution_count": 195,
   "id": "35ec6853",
   "metadata": {},
   "outputs": [
    {
     "data": {
      "text/plain": [
       "{'name': 'Shakil', 'age': '27', 'city': 'Berlin', 'country': 'Germany'}"
      ]
     },
     "execution_count": 195,
     "metadata": {},
     "output_type": "execute_result"
    }
   ],
   "source": [
    "dic"
   ]
  },
  {
   "cell_type": "code",
   "execution_count": 196,
   "id": "eccd99b3",
   "metadata": {},
   "outputs": [],
   "source": [
    "v= dic['country']\n",
    "del dic['country']\n",
    "dic['region']=v\n"
   ]
  },
  {
   "cell_type": "code",
   "execution_count": 197,
   "id": "53a9a404",
   "metadata": {},
   "outputs": [
    {
     "data": {
      "text/plain": [
       "{'name': 'Shakil', 'age': '27', 'city': 'Berlin', 'region': 'Germany'}"
      ]
     },
     "execution_count": 197,
     "metadata": {},
     "output_type": "execute_result"
    }
   ],
   "source": [
    "dic"
   ]
  },
  {
   "cell_type": "markdown",
   "id": "2c38c65b",
   "metadata": {},
   "source": [
    "# 17. Change the value of a key in a given dictionary.\n",
    "Write a Python program to change ‘age’ to 28 in the following dictionary.\n",
    "Dict = { \"name\": \"Shakil\", \"age\":27, \"city\": “Berlin”, \"country\": \"Germany\" }"
   ]
  },
  {
   "cell_type": "code",
   "execution_count": 198,
   "id": "22df3310",
   "metadata": {},
   "outputs": [],
   "source": [
    "dic['age']='28'"
   ]
  },
  {
   "cell_type": "code",
   "execution_count": 199,
   "id": "c5b07921",
   "metadata": {},
   "outputs": [
    {
     "data": {
      "text/plain": [
       "{'name': 'Shakil', 'age': '28', 'city': 'Berlin', 'region': 'Germany'}"
      ]
     },
     "execution_count": 199,
     "metadata": {},
     "output_type": "execute_result"
    }
   ],
   "source": [
    "dic"
   ]
  },
  {
   "cell_type": "markdown",
   "id": "3fb6559f",
   "metadata": {},
   "source": [
    "# 16. Creating a data frame using the list.\n",
    "num = [10,100,300] (column name is number)"
   ]
  },
  {
   "cell_type": "code",
   "execution_count": 200,
   "id": "ee4b8080",
   "metadata": {},
   "outputs": [],
   "source": [
    "import pandas as pd"
   ]
  },
  {
   "cell_type": "code",
   "execution_count": 201,
   "id": "59fa2988",
   "metadata": {},
   "outputs": [],
   "source": [
    "dic1={\n",
    "    'Number': [10,100,300]\n",
    "}"
   ]
  },
  {
   "cell_type": "code",
   "execution_count": 202,
   "id": "79680cde",
   "metadata": {},
   "outputs": [
    {
     "data": {
      "text/plain": [
       "{'Number': [10, 100, 300]}"
      ]
     },
     "execution_count": 202,
     "metadata": {},
     "output_type": "execute_result"
    }
   ],
   "source": [
    "dic1"
   ]
  },
  {
   "cell_type": "code",
   "execution_count": null,
   "id": "170191db",
   "metadata": {},
   "outputs": [],
   "source": []
  }
 ],
 "metadata": {
  "kernelspec": {
   "display_name": "Python 3 (ipykernel)",
   "language": "python",
   "name": "python3"
  },
  "language_info": {
   "codemirror_mode": {
    "name": "ipython",
    "version": 3
   },
   "file_extension": ".py",
   "mimetype": "text/x-python",
   "name": "python",
   "nbconvert_exporter": "python",
   "pygments_lexer": "ipython3",
   "version": "3.9.13"
  }
 },
 "nbformat": 4,
 "nbformat_minor": 5
}
